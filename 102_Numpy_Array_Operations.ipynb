{
 "cells": [
  {
   "cell_type": "code",
   "execution_count": 1,
   "id": "08ff0922",
   "metadata": {},
   "outputs": [],
   "source": [
    "import numpy as np "
   ]
  },
  {
   "cell_type": "code",
   "execution_count": 2,
   "id": "b93a3709",
   "metadata": {},
   "outputs": [],
   "source": [
    "my_1d_array = np.random.randint(2,8,16) # 16 random numbers between 2 and 8."
   ]
  },
  {
   "cell_type": "code",
   "execution_count": 3,
   "id": "7dadb2d8",
   "metadata": {},
   "outputs": [
    {
     "data": {
      "text/plain": [
       "7"
      ]
     },
     "execution_count": 3,
     "metadata": {},
     "output_type": "execute_result"
    }
   ],
   "source": [
    "np.max(my_1d_array) #Max is \"7. "
   ]
  },
  {
   "cell_type": "code",
   "execution_count": 4,
   "id": "16e22b02",
   "metadata": {},
   "outputs": [
    {
     "data": {
      "text/plain": [
       "7"
      ]
     },
     "execution_count": 4,
     "metadata": {},
     "output_type": "execute_result"
    }
   ],
   "source": [
    "my_1d_array.max() #Same result - This is better to do, as you can specify max in rows and columns"
   ]
  },
  {
   "cell_type": "code",
   "execution_count": 5,
   "id": "5b3d766d",
   "metadata": {},
   "outputs": [
    {
     "data": {
      "text/plain": [
       "2"
      ]
     },
     "execution_count": 5,
     "metadata": {},
     "output_type": "execute_result"
    }
   ],
   "source": [
    "my_1d_array.min()\n"
   ]
  },
  {
   "cell_type": "code",
   "execution_count": 6,
   "id": "4ab58f34",
   "metadata": {},
   "outputs": [
    {
     "data": {
      "text/plain": [
       "4.75"
      ]
     },
     "execution_count": 6,
     "metadata": {},
     "output_type": "execute_result"
    }
   ],
   "source": [
    "my_1d_array.mean()"
   ]
  },
  {
   "cell_type": "code",
   "execution_count": 7,
   "id": "1d38028e",
   "metadata": {},
   "outputs": [
    {
     "data": {
      "text/plain": [
       "76"
      ]
     },
     "execution_count": 7,
     "metadata": {},
     "output_type": "execute_result"
    }
   ],
   "source": [
    "my_1d_array.sum()"
   ]
  },
  {
   "cell_type": "code",
   "execution_count": 8,
   "id": "0387ccad",
   "metadata": {},
   "outputs": [
    {
     "data": {
      "text/plain": [
       "1.4361406616345072"
      ]
     },
     "execution_count": 8,
     "metadata": {},
     "output_type": "execute_result"
    }
   ],
   "source": [
    "my_1d_array.std()"
   ]
  },
  {
   "cell_type": "code",
   "execution_count": 9,
   "id": "f716cd49",
   "metadata": {},
   "outputs": [],
   "source": [
    "#Multidimensional arrays\n",
    "\n",
    "my_2d_array = my_1d_array.reshape(4,4)"
   ]
  },
  {
   "cell_type": "code",
   "execution_count": 10,
   "id": "bc3c7abf",
   "metadata": {},
   "outputs": [
    {
     "name": "stdout",
     "output_type": "stream",
     "text": [
      "[[5 6 7 2]\n",
      " [7 4 4 4]\n",
      " [4 6 5 3]\n",
      " [3 6 4 6]]\n"
     ]
    }
   ],
   "source": [
    "print(my_2d_array)"
   ]
  },
  {
   "cell_type": "code",
   "execution_count": 11,
   "id": "8b05105b",
   "metadata": {},
   "outputs": [
    {
     "data": {
      "text/plain": [
       "7"
      ]
     },
     "execution_count": 11,
     "metadata": {},
     "output_type": "execute_result"
    }
   ],
   "source": [
    "my_2d_array.max()"
   ]
  },
  {
   "cell_type": "code",
   "execution_count": 12,
   "id": "887c558d",
   "metadata": {},
   "outputs": [
    {
     "data": {
      "text/plain": [
       "array([7, 6, 7, 6])"
      ]
     },
     "execution_count": 12,
     "metadata": {},
     "output_type": "execute_result"
    }
   ],
   "source": [
    "my_2d_array.max(axis=0) #Maximum value for each column"
   ]
  },
  {
   "cell_type": "code",
   "execution_count": 14,
   "id": "09ec1183",
   "metadata": {},
   "outputs": [
    {
     "data": {
      "text/plain": [
       "array([7, 7, 6, 6])"
      ]
     },
     "execution_count": 14,
     "metadata": {},
     "output_type": "execute_result"
    }
   ],
   "source": [
    "my_2d_array.max(axis=1) #Maximum value for each row"
   ]
  },
  {
   "cell_type": "code",
   "execution_count": 15,
   "id": "ef22181a",
   "metadata": {},
   "outputs": [
    {
     "data": {
      "text/plain": [
       "array([1, 0, 0, 3], dtype=int64)"
      ]
     },
     "execution_count": 15,
     "metadata": {},
     "output_type": "execute_result"
    }
   ],
   "source": [
    "#We can use arg max and arg minimum - to find the index of the element that has either of these\n",
    "\n",
    "my_2d_array.argmax(axis=0) #Tells us index position in column"
   ]
  },
  {
   "cell_type": "code",
   "execution_count": 16,
   "id": "46cc9c9f",
   "metadata": {},
   "outputs": [
    {
     "data": {
      "text/plain": [
       "array([2, 0, 1, 1], dtype=int64)"
      ]
     },
     "execution_count": 16,
     "metadata": {},
     "output_type": "execute_result"
    }
   ],
   "source": [
    "my_2d_array.argmax(axis=1) #Tells us index position in row"
   ]
  },
  {
   "cell_type": "code",
   "execution_count": 18,
   "id": "d8e37b9e",
   "metadata": {},
   "outputs": [
    {
     "data": {
      "text/plain": [
       "array([2, 3, 3, 4, 4, 4, 4, 4, 5, 5, 6, 6, 6, 6, 7, 7])"
      ]
     },
     "execution_count": 18,
     "metadata": {},
     "output_type": "execute_result"
    }
   ],
   "source": [
    "np.sort(my_1d_array) #Sort array in ascending order\n"
   ]
  },
  {
   "cell_type": "code",
   "execution_count": 19,
   "id": "884dcfaf",
   "metadata": {},
   "outputs": [],
   "source": [
    "a = np.array([1,2,3,4,5])"
   ]
  },
  {
   "cell_type": "code",
   "execution_count": 20,
   "id": "d2b7861b",
   "metadata": {},
   "outputs": [
    {
     "data": {
      "text/plain": [
       "array([11, 12, 13, 14, 15])"
      ]
     },
     "execution_count": 20,
     "metadata": {},
     "output_type": "execute_result"
    }
   ],
   "source": [
    "a + 10 #Numpy has added 10 to each of the elements here"
   ]
  },
  {
   "cell_type": "code",
   "execution_count": 23,
   "id": "3d2858cf",
   "metadata": {},
   "outputs": [
    {
     "data": {
      "text/plain": [
       "array([-9, -8, -7, -6, -5])"
      ]
     },
     "execution_count": 23,
     "metadata": {},
     "output_type": "execute_result"
    }
   ],
   "source": [
    "a-10\n"
   ]
  },
  {
   "cell_type": "code",
   "execution_count": 24,
   "id": "5501a69f",
   "metadata": {},
   "outputs": [
    {
     "data": {
      "text/plain": [
       "array([10, 20, 30, 40, 50])"
      ]
     },
     "execution_count": 24,
     "metadata": {},
     "output_type": "execute_result"
    }
   ],
   "source": [
    "a*10\n"
   ]
  },
  {
   "cell_type": "code",
   "execution_count": 25,
   "id": "3850fab9",
   "metadata": {},
   "outputs": [
    {
     "data": {
      "text/plain": [
       "array([0.1, 0.2, 0.3, 0.4, 0.5])"
      ]
     },
     "execution_count": 25,
     "metadata": {},
     "output_type": "execute_result"
    }
   ],
   "source": [
    "a/10"
   ]
  },
  {
   "cell_type": "code",
   "execution_count": 26,
   "id": "97c8e87d",
   "metadata": {},
   "outputs": [
    {
     "data": {
      "text/plain": [
       "array([ 4,  9,  4,  6, 11])"
      ]
     },
     "execution_count": 26,
     "metadata": {},
     "output_type": "execute_result"
    }
   ],
   "source": [
    "b = np.array([3,7,1,2,6])\n",
    "\n",
    "a+b #It has added each \"a\" element to each \"b\" elements here"
   ]
  },
  {
   "cell_type": "code",
   "execution_count": 27,
   "id": "390f2440",
   "metadata": {},
   "outputs": [
    {
     "data": {
      "text/plain": [
       "array([4, 1, 0, 1, 4])"
      ]
     },
     "execution_count": 27,
     "metadata": {},
     "output_type": "execute_result"
    }
   ],
   "source": [
    "a = np.array([-2,-1,0,1,2])\n",
    "#You can square all numbers\n",
    "np.square(a)"
   ]
  },
  {
   "cell_type": "code",
   "execution_count": 28,
   "id": "1bdd1ee6",
   "metadata": {},
   "outputs": [
    {
     "name": "stderr",
     "output_type": "stream",
     "text": [
      "C:\\Users\\19144\\AppData\\Local\\Temp\\ipykernel_24828\\2835837605.py:1: RuntimeWarning: invalid value encountered in sqrt\n",
      "  np.sqrt(a)\n"
     ]
    },
    {
     "data": {
      "text/plain": [
       "array([       nan,        nan, 0.        , 1.        , 1.41421356])"
      ]
     },
     "execution_count": 28,
     "metadata": {},
     "output_type": "execute_result"
    }
   ],
   "source": [
    "np.sqrt(a) #There are some nan - not a number - can't take square root of negative numbers"
   ]
  },
  {
   "cell_type": "code",
   "execution_count": 29,
   "id": "39776865",
   "metadata": {},
   "outputs": [
    {
     "data": {
      "text/plain": [
       "array([-1, -1,  0,  1,  1])"
      ]
     },
     "execution_count": 29,
     "metadata": {},
     "output_type": "execute_result"
    }
   ],
   "source": [
    "np.sign(a) #Returns -1 for all negative numbers, 1 for all positive numbers"
   ]
  },
  {
   "cell_type": "code",
   "execution_count": 30,
   "id": "c713ea3c",
   "metadata": {},
   "outputs": [
    {
     "data": {
      "text/plain": [
       "array([-0.90929743, -0.84147098,  0.        ,  0.84147098,  0.90929743])"
      ]
     },
     "execution_count": 30,
     "metadata": {},
     "output_type": "execute_result"
    }
   ],
   "source": [
    "np.sin(a)"
   ]
  },
  {
   "cell_type": "code",
   "execution_count": 31,
   "id": "70df8779",
   "metadata": {},
   "outputs": [
    {
     "data": {
      "text/plain": [
       "array([-0.41614684,  0.54030231,  1.        ,  0.54030231, -0.41614684])"
      ]
     },
     "execution_count": 31,
     "metadata": {},
     "output_type": "execute_result"
    }
   ],
   "source": [
    "np.cos(a)"
   ]
  },
  {
   "cell_type": "code",
   "execution_count": 32,
   "id": "355f37c4",
   "metadata": {},
   "outputs": [
    {
     "data": {
      "text/plain": [
       "array([ 2.18503986, -1.55740772,  0.        ,  1.55740772, -2.18503986])"
      ]
     },
     "execution_count": 32,
     "metadata": {},
     "output_type": "execute_result"
    }
   ],
   "source": [
    "np.tan(a)"
   ]
  },
  {
   "cell_type": "code",
   "execution_count": 34,
   "id": "34f3cb8d",
   "metadata": {},
   "outputs": [
    {
     "data": {
      "text/plain": [
       "32"
      ]
     },
     "execution_count": 34,
     "metadata": {},
     "output_type": "execute_result"
    }
   ],
   "source": [
    "a = np.array([1,2,3])\n",
    "b = np.array([4,5,6])\n",
    "\n",
    "np.dot(a,b) #1*4 + 2*5 + 3*6 = "
   ]
  },
  {
   "cell_type": "code",
   "execution_count": null,
   "id": "22041ba3",
   "metadata": {},
   "outputs": [],
   "source": []
  }
 ],
 "metadata": {
  "kernelspec": {
   "display_name": "Python 3 (ipykernel)",
   "language": "python",
   "name": "python3"
  },
  "language_info": {
   "codemirror_mode": {
    "name": "ipython",
    "version": 3
   },
   "file_extension": ".py",
   "mimetype": "text/x-python",
   "name": "python",
   "nbconvert_exporter": "python",
   "pygments_lexer": "ipython3",
   "version": "3.11.5"
  }
 },
 "nbformat": 4,
 "nbformat_minor": 5
}
